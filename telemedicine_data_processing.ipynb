{
 "cells": [
  {
   "cell_type": "markdown",
   "metadata": {},
   "source": [
    "# Bring in Libraries and Packages"
   ]
  },
  {
   "cell_type": "code",
   "execution_count": 1,
   "metadata": {
    "ExecuteTime": {
     "end_time": "2021-04-26T03:19:42.345561Z",
     "start_time": "2021-04-26T03:19:40.318497Z"
    }
   },
   "outputs": [],
   "source": [
    "import html\n",
    "import json\n",
    "import itertools\n",
    "import pandas as pd\n",
    "from nltk.sentiment.vader import SentimentIntensityAnalyzer\n",
    "from urllib.error import HTTPError, URLError\n",
    "from urllib.request import urlopen\n",
    "from urllib.parse import urlparse\n",
    "import preprocessor as p \n",
    "import re\n",
    "from nrclex import NRCLex\n",
    "import operator"
   ]
  },
  {
   "cell_type": "markdown",
   "metadata": {},
   "source": [
    "# Bring in Data"
   ]
  },
  {
   "cell_type": "markdown",
   "metadata": {},
   "source": [
    "Downloading in `cancercovid_nodups_expand` skips steps 4 through 6"
   ]
  },
  {
   "cell_type": "code",
   "execution_count": 2,
   "metadata": {
    "ExecuteTime": {
     "end_time": "2021-04-26T03:21:28.284093Z",
     "start_time": "2021-04-26T03:21:03.071160Z"
    }
   },
   "outputs": [],
   "source": [
    "all_telemedcovid_210425 = pd.read_json(\"/Volumes/LaCie/Cancer_COVID/Data/210425_all_telemedicine_all_covid_tweets_210425_start.jsonl\", lines = True)\n",
    "all_telemedcovid_200828 = pd.read_json(\"/Volumes/LaCie/Cancer_COVID/Data/210425_all_telemedicine_all_covid_tweets_200828_start.jsonl\", lines = True)\n",
    "all_telemedcovid_200415 = pd.read_json(\"/Volumes/LaCie/Cancer_COVID/Data/210425_all_telemedicine_all_covid_tweets_200415_start.jsonl\", lines = True)\n",
    "\n",
    "telemedcovid_nodups_expand_sentiment = pd.read_csv(\"210425_telemedicine_covid_nodups_expand.csv\")"
   ]
  },
  {
   "cell_type": "markdown",
   "metadata": {},
   "source": [
    "# Functions"
   ]
  },
  {
   "cell_type": "code",
   "execution_count": 3,
   "metadata": {
    "ExecuteTime": {
     "end_time": "2021-04-26T03:21:30.260185Z",
     "start_time": "2021-04-26T03:21:30.256612Z"
    }
   },
   "outputs": [],
   "source": [
    "def get_vader_score(sid, text, dataframe):\n",
    "    \"\"\"\n",
    "    Function that will take in a text and return an estimated valence. \n",
    "    Note that this assumes that the column names match the VADER output\n",
    "    (i.e., \"neg\", \"neu\", \"pos\", \"compound\")\n",
    "    param sid (str): Name of the SentimentIntensityAnalyzer() defined outside the function \n",
    "    param text (str): A string of text to analyze\n",
    "    param dataframe (DataFrame): The pandas dataframe to append results to\n",
    "    \"\"\"\n",
    "    scores = sid.polarity_scores(text)\n",
    "    return(dataframe.append(scores, ignore_index = True))"
   ]
  },
  {
   "cell_type": "code",
   "execution_count": 4,
   "metadata": {
    "ExecuteTime": {
     "end_time": "2021-04-26T03:21:31.849771Z",
     "start_time": "2021-04-26T03:21:31.846041Z"
    }
   },
   "outputs": [],
   "source": [
    "def link_extractor(url):\n",
    "    try:\n",
    "      #print(url)\n",
    "        urlopen(url).geturl() #Try to turn into a real URL\n",
    "    except (HTTPError, URLError):\n",
    "      #print(\"URL is dead, leaving in abbreviated format\") #Sometimes this doesn't work\n",
    "        return url #Keep original URL\n",
    "    else:\n",
    "        return urlopen(url).geturl() #Keep new URL"
   ]
  },
  {
   "cell_type": "code",
   "execution_count": 5,
   "metadata": {
    "ExecuteTime": {
     "end_time": "2021-04-26T03:21:32.750843Z",
     "start_time": "2021-04-26T03:21:32.742933Z"
    }
   },
   "outputs": [],
   "source": [
    "def url_replacement(text, token_type = \"url\"):\n",
    "    \"\"\"\n",
    "    Function that will take in a block of text and replace the url with a token of some type\n",
    "    text (str): A block of text that contains a url\n",
    "    token_type (str): A specfication on what token should replace the url. Default is \"url\", which just returns \"url\". Other options include: \n",
    "        \"domain\", which returns the domain (e.g., \".gov url\")\n",
    "        \"host\", which returns the host of the website and domain (e.g., \"cdc.gov url\")\n",
    "    \"\"\"\n",
    "    urls = re.findall('http[s]?://(?:[a-zA-Z]|[0-9]|[$-_@.&+]|[!*\\(\\),]|(?:%[0-9a-fA-F][0-9a-fA-F]))+', text)\n",
    "    # Get a list of all urls\n",
    "    \n",
    "    if urls == []: # If list is blank\n",
    "        return text #Return previous text since nothing needs to change\n",
    "    \n",
    "    new_text = text[:] #Deep copy of the text to a new object\n",
    "    \n",
    "    if token_type == \"url\": #For the base case\n",
    "        for url in urls:\n",
    "            new_text = new_text.replace(url, \"url\") #Replace each url with the \"url\" token\n",
    "\n",
    "    elif token_type == \"domain\": #For the case of just extracting the domain\n",
    "        for url in urls:\n",
    "            try: \n",
    "                urlparse(url).netloc.split(\".\")[-1] #Extract just the domain \n",
    "            except ValueError:\n",
    "                print(str(\"URL parse error with \" + url))\n",
    "                domain = \"\"\n",
    "            else:\n",
    "                domain = urlparse(url).netloc.split(\".\")[-1] #Extract just the domain\n",
    "                \n",
    "            domain_url = domain + \" url\"\n",
    "            new_text = new_text.replace(url, domain_url)\n",
    "            \n",
    "    else: #Extracting full host name\n",
    "        for url in urls:\n",
    "            try:\n",
    "                urlparse(url).netloc #Extract the full host name\n",
    "            except ValueError:\n",
    "                print(str(\"URL parse error with \" + url))\n",
    "                domain = \"\"\n",
    "            else:\n",
    "                domain = urlparse(url).netloc #Extract the full host name\n",
    "            #if domain == \"t.co\":\n",
    "            #    domain = link_extractor(url)\n",
    "                \n",
    "            domain_url = domain + \" url\"\n",
    "            new_text = new_text.replace(url, domain_url)\n",
    "        \n",
    "    return new_text"
   ]
  },
  {
   "cell_type": "code",
   "execution_count": 23,
   "metadata": {
    "ExecuteTime": {
     "end_time": "2021-04-26T04:02:39.355891Z",
     "start_time": "2021-04-26T04:02:39.351474Z"
    }
   },
   "outputs": [],
   "source": [
    "def get_emotions(text, dataframe):\n",
    "    \"\"\"\n",
    "    Function that will take a text at return a dataframe of emotions (excluding positive and negative)\n",
    "    Params:\n",
    "        text (str): The tweet of interest\n",
    "        dataframe (Pandas DataFrame): The emotions dataframe to add values\n",
    "        \n",
    "    Return:\n",
    "        Updated dataframe with the new row of interest\n",
    "    \"\"\"\n",
    "    nrc_text = NRCLex(text)\n",
    "    nrc_dict = nrc_text.affect_frequencies\n",
    "    nrc_dict.pop('positive', None)\n",
    "    nrc_dict.pop('negative', None)\n",
    "    nrc_dict.pop('anticip', None)\n",
    "    nrc_max_emotion = max(nrc_dict.items(), key=operator.itemgetter(1))[0]\n",
    "    nrc_dict[\"max_emotion\"] = nrc_max_emotion\n",
    "    dataframe = dataframe.append(nrc_dict, ignore_index= True)\n",
    "    return dataframe"
   ]
  },
  {
   "cell_type": "markdown",
   "metadata": {},
   "source": [
    "# Data Processing"
   ]
  },
  {
   "cell_type": "code",
   "execution_count": 7,
   "metadata": {
    "ExecuteTime": {
     "end_time": "2021-04-26T03:22:08.774577Z",
     "start_time": "2021-04-26T03:22:08.511124Z"
    }
   },
   "outputs": [],
   "source": [
    "telemedcovid = pd.concat([all_telemedcovid_210425, all_telemedcovid_200828, all_telemedcovid_200415])"
   ]
  },
  {
   "cell_type": "code",
   "execution_count": 8,
   "metadata": {
    "ExecuteTime": {
     "end_time": "2021-04-26T03:22:11.948378Z",
     "start_time": "2021-04-26T03:22:11.902971Z"
    }
   },
   "outputs": [
    {
     "name": "stdout",
     "output_type": "stream",
     "text": [
      "                                                text     author_id  \\\n",
      "0  The future of #healthcare delivery isn’t #tele...  1.144224e+18   \n",
      "1  5 Reasons Why Every Small Business Needs an Em...  2.454696e+07   \n",
      "2  Time Management Secrets for College Students: ...  2.194020e+08   \n",
      "3  Procrastination Solutions For College Students...  2.194020e+08   \n",
      "4      What a mess.....  \\n\\nhttps://t.co/0fb51cePEf  1.381735e+18   \n",
      "\n",
      "                                      public_metrics  \\\n",
      "0  {'retweet_count': 0, 'reply_count': 0, 'like_c...   \n",
      "1  {'retweet_count': 2, 'reply_count': 0, 'like_c...   \n",
      "2  {'retweet_count': 3, 'reply_count': 0, 'like_c...   \n",
      "3  {'retweet_count': 3, 'reply_count': 0, 'like_c...   \n",
      "4  {'retweet_count': 0, 'reply_count': 0, 'like_c...   \n",
      "\n",
      "                 created_at            id  \\\n",
      "0 2021-04-24 23:45:04+00:00  1.386104e+18   \n",
      "1 2021-04-24 23:40:43+00:00  1.386103e+18   \n",
      "2 2021-04-24 23:37:12+00:00  1.386102e+18   \n",
      "3 2021-04-24 23:36:56+00:00  1.386102e+18   \n",
      "4 2021-04-24 23:30:10+00:00  1.386100e+18   \n",
      "\n",
      "                                            entities  \\\n",
      "0  {'hashtags': [{'start': 14, 'end': 25, 'tag': ...   \n",
      "1  {'hashtags': [{'start': 99, 'end': 103, 'tag':...   \n",
      "2  {'hashtags': [{'start': 82, 'end': 89, 'tag': ...   \n",
      "3  {'hashtags': [{'start': 82, 'end': 89, 'tag': ...   \n",
      "4  {'urls': [{'start': 20, 'end': 43, 'url': 'htt...   \n",
      "\n",
      "                                 context_annotations  geo users  newest_id  \\\n",
      "0  [{'domain': {'id': '123', 'name': 'Ongoing New...  NaN   NaN        NaN   \n",
      "1  [{'domain': {'id': '65', 'name': 'Interests an...  NaN   NaN        NaN   \n",
      "2  [{'domain': {'id': '65', 'name': 'Interests an...  NaN   NaN        NaN   \n",
      "3  [{'domain': {'id': '65', 'name': 'Interests an...  NaN   NaN        NaN   \n",
      "4                                                NaN  NaN   NaN        NaN   \n",
      "\n",
      "   oldest_id  result_count next_token withheld  \n",
      "0        NaN           NaN        NaN      NaN  \n",
      "1        NaN           NaN        NaN      NaN  \n",
      "2        NaN           NaN        NaN      NaN  \n",
      "3        NaN           NaN        NaN      NaN  \n",
      "4        NaN           NaN        NaN      NaN  \n",
      "(361752, 14)\n"
     ]
    }
   ],
   "source": [
    "print(telemedcovid.head())\n",
    "print(telemedcovid.shape) #361,752"
   ]
  },
  {
   "cell_type": "markdown",
   "metadata": {},
   "source": [
    "## Drop Duplicates"
   ]
  },
  {
   "cell_type": "code",
   "execution_count": 9,
   "metadata": {
    "ExecuteTime": {
     "end_time": "2021-04-26T03:22:32.639257Z",
     "start_time": "2021-04-26T03:22:32.288935Z"
    }
   },
   "outputs": [
    {
     "name": "stdout",
     "output_type": "stream",
     "text": [
      "(352490, 14)\n"
     ]
    }
   ],
   "source": [
    "telemedcovid_nodups = telemedcovid.drop_duplicates(subset=['id'])\n",
    "print(telemedcovid_nodups.shape) #352,490 rows"
   ]
  },
  {
   "cell_type": "markdown",
   "metadata": {},
   "source": [
    "## Expand columns "
   ]
  },
  {
   "cell_type": "code",
   "execution_count": 11,
   "metadata": {
    "ExecuteTime": {
     "end_time": "2021-04-26T03:32:22.264976Z",
     "start_time": "2021-04-26T03:23:50.740986Z"
    }
   },
   "outputs": [],
   "source": [
    "telemedcovid_nodups_expand = pd.concat([telemedcovid_nodups.drop(['public_metrics'], axis=1), telemedcovid_nodups['public_metrics'].apply(pd.Series)], axis=1)\n",
    "telemedcovid_nodups_expand = pd.concat([telemedcovid_nodups_expand.drop(['entities'], axis=1), telemedcovid_nodups_expand['entities'].apply(pd.Series)], axis=1)\n",
    "telemedcovid_nodups_expand = pd.concat([telemedcovid_nodups_expand.drop(['geo'], axis=1), telemedcovid_nodups_expand['geo'].apply(pd.Series)], axis=1)"
   ]
  },
  {
   "cell_type": "markdown",
   "metadata": {},
   "source": [
    "# Text Processing"
   ]
  },
  {
   "cell_type": "markdown",
   "metadata": {
    "heading_collapsed": true
   },
   "source": [
    "## Actual Processing"
   ]
  },
  {
   "cell_type": "code",
   "execution_count": 13,
   "metadata": {
    "ExecuteTime": {
     "end_time": "2021-04-26T03:34:17.282456Z",
     "start_time": "2021-04-26T03:33:24.633386Z"
    },
    "hidden": true
   },
   "outputs": [
    {
     "name": "stdout",
     "output_type": "stream",
     "text": [
      "Now processing text!\n"
     ]
    }
   ],
   "source": [
    "telemedcovid_nodups_expand['processed_text'] = telemedcovid_nodups_expand['text']\n",
    "print(\"Now processing text!\")\n",
    "telemedcovid_nodups_expand['processed_text'] = telemedcovid_nodups_expand.processed_text.apply(str) #Change to string\n",
    "telemedcovid_nodups_expand['processed_text'] = telemedcovid_nodups_expand.processed_text.apply(html.unescape) #Remove HTML escape characters\n",
    "telemedcovid_nodups_expand['processed_text'] = telemedcovid_nodups_expand.processed_text.apply(lambda x: url_replacement(x, \"host\"))\n",
    "telemedcovid_nodups_expand['processed_text'] = telemedcovid_nodups_expand.processed_text.apply(p.clean) #Preprocessor removes hashtags and cleans text"
   ]
  },
  {
   "cell_type": "markdown",
   "metadata": {
    "heading_collapsed": true
   },
   "source": [
    "## Processed write-out to csv"
   ]
  },
  {
   "cell_type": "code",
   "execution_count": 14,
   "metadata": {
    "ExecuteTime": {
     "end_time": "2021-04-26T03:35:36.599073Z",
     "start_time": "2021-04-26T03:35:13.266605Z"
    },
    "hidden": true
   },
   "outputs": [],
   "source": [
    "telemedcovid_nodups_expand.to_csv(\"/Volumes/LaCie/Cancer_COVID/Data/210425_telemedicine_covid_nodups_expand.csv\")"
   ]
  },
  {
   "cell_type": "markdown",
   "metadata": {},
   "source": [
    "# Sentiment Analysis with Vader"
   ]
  },
  {
   "cell_type": "markdown",
   "metadata": {
    "heading_collapsed": true
   },
   "source": [
    "## Run Sentiment Analysis"
   ]
  },
  {
   "cell_type": "markdown",
   "metadata": {
    "hidden": true
   },
   "source": [
    "Takes about an hour"
   ]
  },
  {
   "cell_type": "code",
   "execution_count": 15,
   "metadata": {
    "ExecuteTime": {
     "end_time": "2021-04-26T03:58:10.519300Z",
     "start_time": "2021-04-26T03:36:48.596748Z"
    },
    "hidden": true
   },
   "outputs": [],
   "source": [
    "sid = SentimentIntensityAnalyzer()\n",
    "sentiments = pd.DataFrame(columns = ['neg', 'neu', 'pos', 'compound'])\n",
    "for text in telemedcovid_nodups_expand['processed_text']:\n",
    "    sentiments = get_vader_score(sid, text, sentiments)"
   ]
  },
  {
   "cell_type": "markdown",
   "metadata": {
    "heading_collapsed": true
   },
   "source": [
    "## Combine the Data Sets"
   ]
  },
  {
   "cell_type": "code",
   "execution_count": 16,
   "metadata": {
    "ExecuteTime": {
     "end_time": "2021-04-26T03:58:33.733818Z",
     "start_time": "2021-04-26T03:58:33.528895Z"
    },
    "hidden": true
   },
   "outputs": [],
   "source": [
    "telemedcovid_nodups_expand.reset_index(drop=True, inplace=True)\n",
    "sentiments.reset_index(drop=True, inplace=True)\n",
    "telemedcovid_nodups_expand_sentiment = pd.concat([telemedcovid_nodups_expand, sentiments], axis=1)"
   ]
  },
  {
   "cell_type": "markdown",
   "metadata": {},
   "source": [
    "## Write Out to CSV"
   ]
  },
  {
   "cell_type": "code",
   "execution_count": 18,
   "metadata": {
    "ExecuteTime": {
     "end_time": "2021-04-26T03:59:30.988908Z",
     "start_time": "2021-04-26T03:59:03.425779Z"
    }
   },
   "outputs": [],
   "source": [
    "telemedcovid_nodups_expand_sentiment.to_csv(\"/Volumes/LaCie/Cancer_COVID/Data/210425_telemedicine_covid_nodups_expand.csv\")"
   ]
  },
  {
   "cell_type": "markdown",
   "metadata": {},
   "source": [
    "# Emotion Analysis with NRCLex"
   ]
  },
  {
   "cell_type": "code",
   "execution_count": 24,
   "metadata": {
    "ExecuteTime": {
     "end_time": "2021-04-26T12:47:45.596499Z",
     "start_time": "2021-04-26T04:02:46.468468Z"
    }
   },
   "outputs": [
    {
     "ename": "KeyboardInterrupt",
     "evalue": "",
     "output_type": "error",
     "traceback": [
      "\u001b[0;31m---------------------------------------------------------------------------\u001b[0m",
      "\u001b[0;31mKeyboardInterrupt\u001b[0m                         Traceback (most recent call last)",
      "\u001b[0;32m<ipython-input-24-a379a801b142>\u001b[0m in \u001b[0;36m<module>\u001b[0;34m\u001b[0m\n\u001b[1;32m      1\u001b[0m \u001b[0memotion_df\u001b[0m \u001b[0;34m=\u001b[0m \u001b[0mpd\u001b[0m\u001b[0;34m.\u001b[0m\u001b[0mDataFrame\u001b[0m\u001b[0;34m(\u001b[0m\u001b[0mcolumns\u001b[0m \u001b[0;34m=\u001b[0m \u001b[0;34m[\u001b[0m\u001b[0;34m'fear'\u001b[0m\u001b[0;34m,\u001b[0m \u001b[0;34m'anger'\u001b[0m\u001b[0;34m,\u001b[0m \u001b[0;34m'trust'\u001b[0m\u001b[0;34m,\u001b[0m \u001b[0;34m'surprise'\u001b[0m\u001b[0;34m,\u001b[0m \u001b[0;34m'sadness'\u001b[0m\u001b[0;34m,\u001b[0m \u001b[0;34m'disgust'\u001b[0m\u001b[0;34m,\u001b[0m \u001b[0;34m'joy'\u001b[0m\u001b[0;34m,\u001b[0m \u001b[0;34m'anticipation'\u001b[0m\u001b[0;34m,\u001b[0m \u001b[0;34m'max_emotion'\u001b[0m\u001b[0;34m]\u001b[0m\u001b[0;34m)\u001b[0m\u001b[0;34m\u001b[0m\u001b[0;34m\u001b[0m\u001b[0m\n\u001b[1;32m      2\u001b[0m \u001b[0;32mfor\u001b[0m \u001b[0mtext\u001b[0m \u001b[0;32min\u001b[0m \u001b[0mtelemedcovid_nodups_expand_sentiment\u001b[0m\u001b[0;34m.\u001b[0m\u001b[0mprocessed_text\u001b[0m\u001b[0;34m:\u001b[0m\u001b[0;34m\u001b[0m\u001b[0;34m\u001b[0m\u001b[0m\n\u001b[0;32m----> 3\u001b[0;31m     \u001b[0memotion_df\u001b[0m \u001b[0;34m=\u001b[0m \u001b[0mget_emotions\u001b[0m\u001b[0;34m(\u001b[0m\u001b[0mtext\u001b[0m\u001b[0;34m,\u001b[0m \u001b[0memotion_df\u001b[0m\u001b[0;34m)\u001b[0m\u001b[0;34m\u001b[0m\u001b[0;34m\u001b[0m\u001b[0m\n\u001b[0m",
      "\u001b[0;31mKeyboardInterrupt\u001b[0m: "
     ]
    }
   ],
   "source": [
    "emotion_df = pd.DataFrame(columns = ['fear', 'anger', 'trust', 'surprise', 'sadness', 'disgust', 'joy', 'anticipation', 'max_emotion'])\n",
    "for text in telemedcovid_nodups_expand_sentiment.processed_text:\n",
    "    emotion_df = get_emotions(text, emotion_df)"
   ]
  },
  {
   "cell_type": "code",
   "execution_count": 62,
   "metadata": {
    "ExecuteTime": {
     "end_time": "2021-04-18T02:17:06.499137Z",
     "start_time": "2021-04-18T02:17:05.628181Z"
    }
   },
   "outputs": [
    {
     "data": {
      "text/html": [
       "<div>\n",
       "<style scoped>\n",
       "    .dataframe tbody tr th:only-of-type {\n",
       "        vertical-align: middle;\n",
       "    }\n",
       "\n",
       "    .dataframe tbody tr th {\n",
       "        vertical-align: top;\n",
       "    }\n",
       "\n",
       "    .dataframe thead th {\n",
       "        text-align: right;\n",
       "    }\n",
       "</style>\n",
       "<table border=\"1\" class=\"dataframe\">\n",
       "  <thead>\n",
       "    <tr style=\"text-align: right;\">\n",
       "      <th></th>\n",
       "      <th>author_id</th>\n",
       "      <th>text</th>\n",
       "      <th>created_at</th>\n",
       "      <th>id</th>\n",
       "      <th>context_annotations</th>\n",
       "      <th>users</th>\n",
       "      <th>newest_id</th>\n",
       "      <th>oldest_id</th>\n",
       "      <th>result_count</th>\n",
       "      <th>next_token</th>\n",
       "      <th>...</th>\n",
       "      <th>fear</th>\n",
       "      <th>anger</th>\n",
       "      <th>anticip</th>\n",
       "      <th>trust</th>\n",
       "      <th>surprise</th>\n",
       "      <th>sadness</th>\n",
       "      <th>disgust</th>\n",
       "      <th>joy</th>\n",
       "      <th>anticipation</th>\n",
       "      <th>max_emotion</th>\n",
       "    </tr>\n",
       "  </thead>\n",
       "  <tbody>\n",
       "    <tr>\n",
       "      <th>0</th>\n",
       "      <td>1.325606e+18</td>\n",
       "      <td>@mtgreenee You ran knowing unopposed (so guara...</td>\n",
       "      <td>2021-04-12 23:59:48+00:00</td>\n",
       "      <td>1.381759e+18</td>\n",
       "      <td>NaN</td>\n",
       "      <td>NaN</td>\n",
       "      <td>NaN</td>\n",
       "      <td>NaN</td>\n",
       "      <td>NaN</td>\n",
       "      <td>NaN</td>\n",
       "      <td>...</td>\n",
       "      <td>NaN</td>\n",
       "      <td>NaN</td>\n",
       "      <td>NaN</td>\n",
       "      <td>NaN</td>\n",
       "      <td>NaN</td>\n",
       "      <td>NaN</td>\n",
       "      <td>NaN</td>\n",
       "      <td>NaN</td>\n",
       "      <td>NaN</td>\n",
       "      <td>NaN</td>\n",
       "    </tr>\n",
       "    <tr>\n",
       "      <th>1</th>\n",
       "      <td>2.514107e+08</td>\n",
       "      <td>So this Covid vaccination is called the Johnso...</td>\n",
       "      <td>2021-04-12 23:58:51+00:00</td>\n",
       "      <td>1.381759e+18</td>\n",
       "      <td>[{'domain': {'id': '65', 'name': 'Interests an...</td>\n",
       "      <td>NaN</td>\n",
       "      <td>NaN</td>\n",
       "      <td>NaN</td>\n",
       "      <td>NaN</td>\n",
       "      <td>NaN</td>\n",
       "      <td>...</td>\n",
       "      <td>NaN</td>\n",
       "      <td>NaN</td>\n",
       "      <td>NaN</td>\n",
       "      <td>NaN</td>\n",
       "      <td>NaN</td>\n",
       "      <td>NaN</td>\n",
       "      <td>NaN</td>\n",
       "      <td>NaN</td>\n",
       "      <td>NaN</td>\n",
       "      <td>NaN</td>\n",
       "    </tr>\n",
       "    <tr>\n",
       "      <th>2</th>\n",
       "      <td>4.059664e+08</td>\n",
       "      <td>@LadyDi53086 @EricaRN4USA @ky_statesman See my...</td>\n",
       "      <td>2021-04-12 23:58:37+00:00</td>\n",
       "      <td>1.381759e+18</td>\n",
       "      <td>[{'domain': {'id': '123', 'name': 'Ongoing New...</td>\n",
       "      <td>NaN</td>\n",
       "      <td>NaN</td>\n",
       "      <td>NaN</td>\n",
       "      <td>NaN</td>\n",
       "      <td>NaN</td>\n",
       "      <td>...</td>\n",
       "      <td>NaN</td>\n",
       "      <td>NaN</td>\n",
       "      <td>NaN</td>\n",
       "      <td>NaN</td>\n",
       "      <td>NaN</td>\n",
       "      <td>NaN</td>\n",
       "      <td>NaN</td>\n",
       "      <td>NaN</td>\n",
       "      <td>NaN</td>\n",
       "      <td>NaN</td>\n",
       "    </tr>\n",
       "    <tr>\n",
       "      <th>3</th>\n",
       "      <td>1.174160e+18</td>\n",
       "      <td>@HotepJesus &amp;gt;made a microchip to detect ear...</td>\n",
       "      <td>2021-04-12 23:56:46+00:00</td>\n",
       "      <td>1.381758e+18</td>\n",
       "      <td>[{'domain': {'id': '65', 'name': 'Interests an...</td>\n",
       "      <td>NaN</td>\n",
       "      <td>NaN</td>\n",
       "      <td>NaN</td>\n",
       "      <td>NaN</td>\n",
       "      <td>NaN</td>\n",
       "      <td>...</td>\n",
       "      <td>NaN</td>\n",
       "      <td>NaN</td>\n",
       "      <td>NaN</td>\n",
       "      <td>NaN</td>\n",
       "      <td>NaN</td>\n",
       "      <td>NaN</td>\n",
       "      <td>NaN</td>\n",
       "      <td>NaN</td>\n",
       "      <td>NaN</td>\n",
       "      <td>NaN</td>\n",
       "    </tr>\n",
       "    <tr>\n",
       "      <th>4</th>\n",
       "      <td>1.205541e+18</td>\n",
       "      <td>@WessHerman @MaximeBernier I'm old, but not th...</td>\n",
       "      <td>2021-04-12 23:56:40+00:00</td>\n",
       "      <td>1.381758e+18</td>\n",
       "      <td>[{'domain': {'id': '123', 'name': 'Ongoing New...</td>\n",
       "      <td>NaN</td>\n",
       "      <td>NaN</td>\n",
       "      <td>NaN</td>\n",
       "      <td>NaN</td>\n",
       "      <td>NaN</td>\n",
       "      <td>...</td>\n",
       "      <td>NaN</td>\n",
       "      <td>NaN</td>\n",
       "      <td>NaN</td>\n",
       "      <td>NaN</td>\n",
       "      <td>NaN</td>\n",
       "      <td>NaN</td>\n",
       "      <td>NaN</td>\n",
       "      <td>NaN</td>\n",
       "      <td>NaN</td>\n",
       "      <td>NaN</td>\n",
       "    </tr>\n",
       "  </tbody>\n",
       "</table>\n",
       "<p>5 rows × 40 columns</p>\n",
       "</div>"
      ],
      "text/plain": [
       "      author_id                                               text  \\\n",
       "0  1.325606e+18  @mtgreenee You ran knowing unopposed (so guara...   \n",
       "1  2.514107e+08  So this Covid vaccination is called the Johnso...   \n",
       "2  4.059664e+08  @LadyDi53086 @EricaRN4USA @ky_statesman See my...   \n",
       "3  1.174160e+18  @HotepJesus &gt;made a microchip to detect ear...   \n",
       "4  1.205541e+18  @WessHerman @MaximeBernier I'm old, but not th...   \n",
       "\n",
       "                 created_at            id  \\\n",
       "0 2021-04-12 23:59:48+00:00  1.381759e+18   \n",
       "1 2021-04-12 23:58:51+00:00  1.381759e+18   \n",
       "2 2021-04-12 23:58:37+00:00  1.381759e+18   \n",
       "3 2021-04-12 23:56:46+00:00  1.381758e+18   \n",
       "4 2021-04-12 23:56:40+00:00  1.381758e+18   \n",
       "\n",
       "                                 context_annotations users  newest_id  \\\n",
       "0                                                NaN   NaN        NaN   \n",
       "1  [{'domain': {'id': '65', 'name': 'Interests an...   NaN        NaN   \n",
       "2  [{'domain': {'id': '123', 'name': 'Ongoing New...   NaN        NaN   \n",
       "3  [{'domain': {'id': '65', 'name': 'Interests an...   NaN        NaN   \n",
       "4  [{'domain': {'id': '123', 'name': 'Ongoing New...   NaN        NaN   \n",
       "\n",
       "   oldest_id  result_count next_token  ... fear  anger  anticip  trust  \\\n",
       "0        NaN           NaN        NaN  ...  NaN    NaN      NaN    NaN   \n",
       "1        NaN           NaN        NaN  ...  NaN    NaN      NaN    NaN   \n",
       "2        NaN           NaN        NaN  ...  NaN    NaN      NaN    NaN   \n",
       "3        NaN           NaN        NaN  ...  NaN    NaN      NaN    NaN   \n",
       "4        NaN           NaN        NaN  ...  NaN    NaN      NaN    NaN   \n",
       "\n",
       "   surprise  sadness  disgust  joy anticipation max_emotion  \n",
       "0       NaN      NaN      NaN  NaN          NaN         NaN  \n",
       "1       NaN      NaN      NaN  NaN          NaN         NaN  \n",
       "2       NaN      NaN      NaN  NaN          NaN         NaN  \n",
       "3       NaN      NaN      NaN  NaN          NaN         NaN  \n",
       "4       NaN      NaN      NaN  NaN          NaN         NaN  \n",
       "\n",
       "[5 rows x 40 columns]"
      ]
     },
     "execution_count": 62,
     "metadata": {},
     "output_type": "execute_result"
    }
   ],
   "source": [
    "#cancercovid_nodups_expand.reset_index(drop=True, inplace=True)\n",
    "#emotion_df.reset_index(drop=True, inplace=True)\n",
    "#test = pd.concat([cancercovid_nodups_expand, emotion_df], axis=1)\n",
    "#test.head()"
   ]
  },
  {
   "cell_type": "code",
   "execution_count": 89,
   "metadata": {
    "ExecuteTime": {
     "end_time": "2021-04-18T02:54:48.619904Z",
     "start_time": "2021-04-18T02:54:48.572723Z"
    }
   },
   "outputs": [
    {
     "data": {
      "text/html": [
       "<div>\n",
       "<style scoped>\n",
       "    .dataframe tbody tr th:only-of-type {\n",
       "        vertical-align: middle;\n",
       "    }\n",
       "\n",
       "    .dataframe tbody tr th {\n",
       "        vertical-align: top;\n",
       "    }\n",
       "\n",
       "    .dataframe thead th {\n",
       "        text-align: right;\n",
       "    }\n",
       "</style>\n",
       "<table border=\"1\" class=\"dataframe\">\n",
       "  <thead>\n",
       "    <tr style=\"text-align: right;\">\n",
       "      <th></th>\n",
       "      <th>fear</th>\n",
       "      <th>anger</th>\n",
       "      <th>trust</th>\n",
       "      <th>surprise</th>\n",
       "      <th>sadness</th>\n",
       "      <th>disgust</th>\n",
       "      <th>joy</th>\n",
       "      <th>anticipation</th>\n",
       "      <th>max_emotion</th>\n",
       "    </tr>\n",
       "  </thead>\n",
       "  <tbody>\n",
       "    <tr>\n",
       "      <th>0</th>\n",
       "      <td>0.095238</td>\n",
       "      <td>0.095238</td>\n",
       "      <td>0.095238</td>\n",
       "      <td>0.047619</td>\n",
       "      <td>0.142857</td>\n",
       "      <td>0.047619</td>\n",
       "      <td>0.047619</td>\n",
       "      <td>0.047619</td>\n",
       "      <td>sadness</td>\n",
       "    </tr>\n",
       "  </tbody>\n",
       "</table>\n",
       "</div>"
      ],
      "text/plain": [
       "       fear     anger     trust  surprise   sadness   disgust       joy  \\\n",
       "0  0.095238  0.095238  0.095238  0.047619  0.142857  0.047619  0.047619   \n",
       "\n",
       "   anticipation max_emotion  \n",
       "0      0.047619     sadness  "
      ]
     },
     "execution_count": 89,
     "metadata": {},
     "output_type": "execute_result"
    }
   ],
   "source": [
    "emotion_df.head()"
   ]
  },
  {
   "cell_type": "code",
   "execution_count": 19,
   "metadata": {
    "ExecuteTime": {
     "end_time": "2021-04-26T04:01:09.898246Z",
     "start_time": "2021-04-26T04:01:09.470591Z"
    }
   },
   "outputs": [
    {
     "name": "stdout",
     "output_type": "stream",
     "text": [
      "   fear  anger     trust  surprise  sadness  disgust  joy  anticipation  \\\n",
      "0   0.0    0.0  0.142857       0.0      0.0      0.0  0.0      0.285714   \n",
      "\n",
      "    max_emotion  \n",
      "0  anticipation  \n"
     ]
    }
   ],
   "source": [
    "emotion_df = pd.DataFrame(columns = ['fear', 'anger', 'trust', 'surprise', 'sadness', 'disgust', 'joy', 'anticipation', 'max_emotion'])\n",
    "nrc_text = NRCLex(telemedcovid_nodups_expand_sentiment.text[0])\n",
    "nrc_dict = nrc_text.affect_frequencies\n",
    "nrc_dict.pop('positive', None)\n",
    "nrc_dict.pop('negative', None)\n",
    "nrc_dict.pop('anticip', None)\n",
    "nrc_max_emotion = max(nrc_dict.items(), key=operator.itemgetter(1))[0]\n",
    "nrc_dict[\"max_emotion\"] = nrc_max_emotion\n",
    "emotion_df = emotion_df.append(nrc_dict, ignore_index= True)\n",
    "print(emotion_df)"
   ]
  },
  {
   "cell_type": "code",
   "execution_count": 21,
   "metadata": {
    "ExecuteTime": {
     "end_time": "2021-04-26T04:01:28.610392Z",
     "start_time": "2021-04-26T04:01:28.587528Z"
    }
   },
   "outputs": [
    {
     "data": {
      "text/plain": [
       "{'fear': 0.0,\n",
       " 'anger': 0.0,\n",
       " 'anticip': 0.0,\n",
       " 'trust': 0.14285714285714285,\n",
       " 'surprise': 0.0,\n",
       " 'positive': 0.5714285714285714,\n",
       " 'negative': 0.0,\n",
       " 'sadness': 0.0,\n",
       " 'disgust': 0.0,\n",
       " 'joy': 0.0,\n",
       " 'anticipation': 0.2857142857142857}"
      ]
     },
     "execution_count": 21,
     "metadata": {},
     "output_type": "execute_result"
    }
   ],
   "source": [
    "NRCLex(telemedcovid_nodups_expand_sentiment.text[0]).affect_frequencies"
   ]
  },
  {
   "cell_type": "code",
   "execution_count": null,
   "metadata": {},
   "outputs": [],
   "source": []
  }
 ],
 "metadata": {
  "kernelspec": {
   "display_name": "Python 3",
   "language": "python",
   "name": "python3"
  },
  "language_info": {
   "codemirror_mode": {
    "name": "ipython",
    "version": 3
   },
   "file_extension": ".py",
   "mimetype": "text/x-python",
   "name": "python",
   "nbconvert_exporter": "python",
   "pygments_lexer": "ipython3",
   "version": "3.7.4"
  },
  "notify_time": "10",
  "toc": {
   "base_numbering": 1,
   "nav_menu": {},
   "number_sections": true,
   "sideBar": true,
   "skip_h1_title": false,
   "title_cell": "Table of Contents",
   "title_sidebar": "Contents",
   "toc_cell": false,
   "toc_position": {},
   "toc_section_display": true,
   "toc_window_display": false
  },
  "varInspector": {
   "cols": {
    "lenName": 16,
    "lenType": 16,
    "lenVar": 40
   },
   "kernels_config": {
    "python": {
     "delete_cmd_postfix": "",
     "delete_cmd_prefix": "del ",
     "library": "var_list.py",
     "varRefreshCmd": "print(var_dic_list())"
    },
    "r": {
     "delete_cmd_postfix": ") ",
     "delete_cmd_prefix": "rm(",
     "library": "var_list.r",
     "varRefreshCmd": "cat(var_dic_list()) "
    }
   },
   "types_to_exclude": [
    "module",
    "function",
    "builtin_function_or_method",
    "instance",
    "_Feature"
   ],
   "window_display": false
  }
 },
 "nbformat": 4,
 "nbformat_minor": 4
}
